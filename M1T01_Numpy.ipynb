{
 "cells": [
  {
   "cell_type": "markdown",
   "id": "13313e0c",
   "metadata": {},
   "source": [
    "## Ejercicio 1\n",
    "\n",
    "-------------------------\n",
    "\n",
    "Creamos la funcion **my_stats** que calcula los estadisticos basicos sobre una matriz **a**\n",
    "\n",
    "La matriz debe ser de una dimensión. Caso contrario muestra un mensaje de error\n"
   ]
  },
  {
   "cell_type": "code",
   "execution_count": 1,
   "id": "d2bba948",
   "metadata": {},
   "outputs": [],
   "source": [
    "import numpy as np"
   ]
  },
  {
   "cell_type": "code",
   "execution_count": 2,
   "id": "0b3cd46f",
   "metadata": {},
   "outputs": [],
   "source": [
    "def my_stats(a):\n",
    "    if a.ndim!=1:\n",
    "        print(\"Error: La matriz debe ser de una dimension\")\n",
    "        return None\n",
    "    else:\n",
    "        print(\"El valor máximo es:                     \", a.max())\n",
    "        print(\"El valor mínimo es:                     \", a.min())\n",
    "        print(\"La  media aritmética toma el valor:     \", a.mean())\n",
    "        print(\"El valor de la mediana es:              \", np.percentile(a,50))\n",
    "        print(\"El valor de la desviación estandard es: \", a.std())"
   ]
  },
  {
   "cell_type": "markdown",
   "id": "f88334a4",
   "metadata": {},
   "source": [
    "Ejemplo de ejecucion de la funcion:"
   ]
  },
  {
   "cell_type": "code",
   "execution_count": 3,
   "id": "3f492cff",
   "metadata": {},
   "outputs": [
    {
     "name": "stdout",
     "output_type": "stream",
     "text": [
      "El valor máximo es:                      10.0\n",
      "El valor mínimo es:                      1.0\n",
      "La  media aritmética toma el valor:      4.45\n",
      "El valor de la mediana es:               3.25\n",
      "El valor de la desviación estandard es:  3.126099806468117\n"
     ]
    }
   ],
   "source": [
    "matriz=np.array([1,1.5,2,2.5,3,3.5,4,8,9,10])\n",
    "\n",
    "my_stats(matriz)\n"
   ]
  },
  {
   "cell_type": "markdown",
   "id": "11a2a88e",
   "metadata": {},
   "source": [
    "## Ejercicio 2\n",
    "\n",
    "--------------------------------------------\n",
    "\n",
    "Creamos la funcion **random100** que genera una matriz cuadrada de rango n albergando en su interior numeros aleatorios entre 0 y 100"
   ]
  },
  {
   "cell_type": "code",
   "execution_count": 4,
   "id": "ad23dd1b",
   "metadata": {},
   "outputs": [],
   "source": [
    "def random100(n):\n",
    "    return 100*np.random.random([n,n])"
   ]
  },
  {
   "cell_type": "markdown",
   "id": "8eb292fd",
   "metadata": {},
   "source": [
    "Ejemplo de ejecucion de la funcion Random100"
   ]
  },
  {
   "cell_type": "code",
   "execution_count": 5,
   "id": "7d33f430",
   "metadata": {},
   "outputs": [
    {
     "data": {
      "text/plain": [
       "array([[49.6818577 , 91.58072191, 79.7668393 ],\n",
       "       [ 5.75901838, 71.23372376,  3.91155954],\n",
       "       [ 6.77077564, 30.11400101, 72.60520692]])"
      ]
     },
     "execution_count": 5,
     "metadata": {},
     "output_type": "execute_result"
    }
   ],
   "source": [
    "random100(3)"
   ]
  },
  {
   "cell_type": "markdown",
   "id": "4520cd26",
   "metadata": {},
   "source": [
    "## Ejercicio 3\n",
    "\n",
    "----------------------------------------\n",
    "\n",
    "Creamos la funcion **tot_fila_col** que dada una tabla **b** de 2 dimensiones calcula el total por fila y el total por columna"
   ]
  },
  {
   "cell_type": "markdown",
   "id": "4c943a42",
   "metadata": {},
   "source": [
    "Usaremos el metodo sum del argumento b eligiendo el eje de interes en cada caso.\n",
    "Para totales de columna usaremos axis=0, para totales de fila axis=1"
   ]
  },
  {
   "cell_type": "code",
   "execution_count": 6,
   "id": "bd1050ab",
   "metadata": {},
   "outputs": [],
   "source": [
    "def tot_fila_col(b):\n",
    "    print(\"Los totales de cada columna en orden ascendente de columna son: \", b.sum(axis=0))\n",
    "    print(\"Los totales de cada fila en orden ascendente de fila son:       \", b.sum(axis=1))\n",
    "    "
   ]
  },
  {
   "cell_type": "markdown",
   "id": "14251b8d",
   "metadata": {},
   "source": [
    "Ejemplo de ejecucion"
   ]
  },
  {
   "cell_type": "code",
   "execution_count": 7,
   "id": "6ac81069",
   "metadata": {},
   "outputs": [
    {
     "name": "stdout",
     "output_type": "stream",
     "text": [
      "Los totales de cada columna en orden ascendente de columna son:  [111 222 333 444 555 666]\n",
      "Los totales de cada fila en orden ascendente de fila son:        [  21  210 2100]\n"
     ]
    }
   ],
   "source": [
    "matriz2=np.array([[1,2,3,4,5,6],[10,20,30,40,50,60], [100,200,300,400,500,600]])\n",
    "tot_fila_col(matriz2)"
   ]
  },
  {
   "cell_type": "markdown",
   "id": "3656a867",
   "metadata": {},
   "source": [
    "## Ejercicio 4\n",
    "\n",
    "-------------------------------------\n",
    "\n",
    "Implementar función que calcule coeficiente de correlación\n",
    "\n",
    "---------------------------------------"
   ]
  },
  {
   "cell_type": "markdown",
   "id": "0e9393fd",
   "metadata": {},
   "source": [
    "El coeficiente de correlacion mide cuan lineal es la relacion entre ambas variables. Si r=1,-1 entonces la relación es perfectamente lineal. Si r=0 no se puede definir una relacion lineal entre ambas variables a partir de los datos.\n",
    "\n",
    "Numpy tiene la funcion np.corrcoef(a,b) para calcular dicho parametro.\n",
    "\n",
    "El coeficiente de correlacion r tambien se puede definir como la covarianza entre x e y COV(x,y) dividido por el producto de la raiz cuadrada de las varianzas de cada variable consideradas por separado. VAR(x) y VAR(y)\n",
    "\n",
    "Estos valores se pueden obtener a partir de la funcion de numpy np.cov(x,y)\n",
    "\n",
    "Es decir r= COV(x,y)/(sqrt(VAR(x)*sqrt(VAR(y))\n"
   ]
  },
  {
   "cell_type": "code",
   "execution_count": 8,
   "id": "604381e9",
   "metadata": {},
   "outputs": [],
   "source": [
    "def coef_correlacion(a,b):\n",
    "    m_cov=np.cov(a,b)\n",
    "    num=m_cov[1,0]\n",
    "    den=np.sqrt(m_cov)[0,0]*np.sqrt(m_cov)[1,1]\n",
    "    print(\"Implemented Pearsons corr coef: \", round(num/den, 7))\n",
    "    print(\"Direct Pearsons corr coef     : \", round(np.corrcoef(x,y)[1,0],7))\n",
    "    return None"
   ]
  },
  {
   "cell_type": "markdown",
   "id": "6d140ec2",
   "metadata": {},
   "source": [
    "Ejemplo ejecucion"
   ]
  },
  {
   "cell_type": "code",
   "execution_count": 9,
   "id": "878e84b3",
   "metadata": {},
   "outputs": [
    {
     "name": "stdout",
     "output_type": "stream",
     "text": [
      "Implemented Pearsons corr coef:  0.5298089\n",
      "Direct Pearsons corr coef     :  0.5298089\n"
     ]
    }
   ],
   "source": [
    "x=np.array([43,21,25,42,57,59])\n",
    "y=np.array([99,65,79,75,87,81])\n",
    "coef_correlacion(x,y)"
   ]
  }
 ],
 "metadata": {
  "kernelspec": {
   "display_name": "Python 3 (ipykernel)",
   "language": "python",
   "name": "python3"
  },
  "language_info": {
   "codemirror_mode": {
    "name": "ipython",
    "version": 3
   },
   "file_extension": ".py",
   "mimetype": "text/x-python",
   "name": "python",
   "nbconvert_exporter": "python",
   "pygments_lexer": "ipython3",
   "version": "3.8.10"
  }
 },
 "nbformat": 4,
 "nbformat_minor": 5
}
